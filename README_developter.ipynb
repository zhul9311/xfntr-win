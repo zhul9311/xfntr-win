{
 "cells": [
  {
   "cell_type": "code",
   "execution_count": 29,
   "metadata": {},
   "outputs": [
    {
     "data": {
      "text/markdown": [
       "# Development log\n",
       "## 1. Add command script: xfntr\n",
       "Use \"entry_points\" keyword in setup() to add command \"xfntr\" in ocmmand line. There might be path problems.\n",
       "\n",
       "```\n",
       "entry_points = { # create scripts and add to sys.PATH\n",
       "        'console_scripts':[\n",
       "            'xfntr1 = xfntr.main:main'\n",
       "        ],\n",
       "        'gui_scripts': [\n",
       "            'xfntr = xfntr.main:main'\n",
       "        ]\n",
       "    }\n",
       "```\n",
       "\n",
       "## 2. Solve path issue\n",
       "\n",
       "Command line might not be albe to find the right path where the module is. In main.py, added the following so it can find module mainwindow.py\n",
       "\n",
       "```\n",
       "import os\n",
       "# Use absolute path instead of relative path ('./') to avoid trouble when installed by pip\n",
       "dir_path = os.path.dirname(os.path.realpath(__file__))\n",
       "sys.path.append(dir_path)\n",
       "```\n",
       "\n",
       "In mainwindow.py, added the following\n",
       "\n",
       "```\n",
       "import os\n",
       "# Use absolute path instead of relative path ('./') to avoid trouble when installed by pip\n",
       "dir_path = os.path.dirname(os.path.realpath(__file__))\n",
       "```\n",
       "and used the absolute file path for GUI files: \n",
       "\n",
       "```\n",
       "UI_path = dir_path + '/GUI/'\n",
       "```\n",
       "\n",
       "## 3. Compatability with Windows OS. (Version: 0.2.6)\n",
       "Rewrote \"parratt function\" in python and removed all fortran code dependencies. Used `Numba` package to speed up the python function.\n",
       "\n",
       "## 4. Modify the model to account for the penetration through the glass wall. \n",
       "\n",
       "<img src=\"/Users/zhuzi/Documents/work/XFNTR%20project/md_files/20200308.png\" alt=\"Kitten\"\n",
       "\ttitle=\"A cute kitten\" width=\"150\" height=\"100\" />\n",
       "\n",
       "---\n",
       "\n",
       "## Future Ideas\n",
       "1. Think of implementing 2D fitting in (qz,sh) space.\n",
       "    1. \\[x] Core function is ready for 2D calculation.\n",
       "    1. Implement 3D plot to plot surface in (qz,sh) space.\n",
       "    1. Identify which part of data is sensitive to a particular parameter.\n",
       "    1. Propose a measurement procedure.\n",
       "1. Rewrite the core function in c and call it from python. \n",
       "1. Implement parallel computing.\n",
       "1. Add function for simple calculations. For example:\n",
       "    1. Electron density calculation\n",
       "    \n"
      ],
      "text/plain": [
       "<IPython.core.display.Markdown object>"
      ]
     },
     "metadata": {},
     "output_type": "display_data"
    }
   ],
   "source": [
    "from IPython.display import display, Markdown\n",
    "mdfile = \"README_developer.md\"\n",
    "with open(mdfile,'r') as f:\n",
    "    display(Markdown(f.read()))"
   ]
  },
  {
   "cell_type": "code",
   "execution_count": null,
   "metadata": {},
   "outputs": [],
   "source": []
  }
 ],
 "metadata": {
  "kernelspec": {
   "display_name": "Python 3",
   "language": "python",
   "name": "python3"
  },
  "language_info": {
   "codemirror_mode": {
    "name": "ipython",
    "version": 3
   },
   "file_extension": ".py",
   "mimetype": "text/x-python",
   "name": "python",
   "nbconvert_exporter": "python",
   "pygments_lexer": "ipython3",
   "version": "3.7.4"
  }
 },
 "nbformat": 4,
 "nbformat_minor": 2
}
